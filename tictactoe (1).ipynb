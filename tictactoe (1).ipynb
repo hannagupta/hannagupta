{
 "cells": [
  {
   "cell_type": "code",
   "execution_count": 1,
   "metadata": {},
   "outputs": [],
   "source": [
    "import random\n",
    "import tkinter\n",
    "from tkinter import *\n",
    "from functools import partial\n",
    "from tkinter import messagebox"
   ]
  },
  {
   "cell_type": "code",
   "execution_count": 2,
   "metadata": {},
   "outputs": [],
   "source": [
    "sign = 0\n",
    "\n",
    "global board\n",
    "board = [[\" \" for x in range(3)] for y in range(3)]\n",
    "\n",
    "def winner(b, l):\n",
    "\treturn ((b[0][0] == l and b[0][1] == l and b[0][2] == l) or\n",
    "\t\t\t(b[1][0] == l and b[1][1] == l and b[1][2] == l) or\n",
    "\t\t\t(b[2][0] == l and b[2][1] == l and b[2][2] == l) or\n",
    "\t\t\t(b[0][0] == l and b[1][0] == l and b[2][0] == l) or\n",
    "\t\t\t(b[0][1] == l and b[1][1] == l and b[2][1] == l) or\n",
    "\t\t\t(b[0][2] == l and b[1][2] == l and b[2][2] == l) or\n",
    "\t\t\t(b[0][0] == l and b[1][1] == l and b[2][2] == l) or\n",
    "\t\t\t(b[0][2] == l and b[1][1] == l and b[2][0] == l))"
   ]
  },
  {
   "cell_type": "code",
   "execution_count": 3,
   "metadata": {},
   "outputs": [],
   "source": [
    "def get_text(i, j, gb, l1, l2):\n",
    "\tglobal sign\n",
    "\tif board[i][j] == ' ':\n",
    "\t\tif sign % 2 == 0:\n",
    "\t\t\tl1.config(state=DISABLED)\n",
    "\t\t\tl2.config(state=ACTIVE)\n",
    "\t\t\tboard[i][j] = \"X\"\n",
    "\t\telse:\n",
    "\t\t\tl2.config(state=DISABLED)\n",
    "\t\t\tl1.config(state=ACTIVE)\n",
    "\t\t\tboard[i][j] = \"O\"\n",
    "\t\tsign += 1\n",
    "\t\tbutton[i][j].config(text=board[i][j])\n",
    "\tif winner(board, \"X\"):\n",
    "\t\tgb.destroy()\n",
    "\t\tbox = messagebox.showinfo(\"Winner\", \"Player 1 won the match\")\n",
    "\telif winner(board, \"O\"):\n",
    "\t\tgb.destroy()\n",
    "\t\tbox = messagebox.showinfo(\"Winner\", \"Player 2 won the match\")\n",
    "\telif(isfull()):\n",
    "\t\tgb.destroy()\n",
    "\t\tbox = messagebox.showinfo(\"Tie Game\", \"Tie Game\")"
   ]
  },
  {
   "cell_type": "code",
   "execution_count": 4,
   "metadata": {},
   "outputs": [],
   "source": [
    "def isfree(i, j):\n",
    "\treturn board[i][j] == \" \"\n",
    "\n",
    "def isfull():\n",
    "\tflag = True\n",
    "\tfor i in board:\n",
    "\t\tif(i.count(' ') > 0):\n",
    "\t\t\tflag = False\n",
    "\treturn flag\n",
    "\n",
    "def gameboard_pl(game_board, l1, l2):\n",
    "\tglobal button\n",
    "\tbutton = []\n",
    "\tfor i in range(3):\n",
    "\t\tm = 3+i\n",
    "\t\tbutton.append(i)\n",
    "\t\tbutton[i] = []\n",
    "\t\tfor j in range(3):\n",
    "\t\t\tn = j\n",
    "\t\t\tbutton[i].append(j)\n",
    "\t\t\tget_t = partial(get_text, i, j, game_board, l1, l2)\n",
    "\t\t\tbutton[i][j] = Button(\n",
    "\t\t\t\tgame_board, bd=5, command=get_t, height=10, width=20)\n",
    "\t\t\tbutton[i][j].grid(row=m, column=n)\n",
    "\tgame_board.mainloop()"
   ]
  },
  {
   "cell_type": "code",
   "execution_count": 5,
   "metadata": {},
   "outputs": [],
   "source": [
    "def withplayer(game_board):\n",
    "\tgame_board.destroy()\n",
    "\tgame_board = Tk()\n",
    "\tgame_board.title(\"Tic Tac Toe\")\n",
    "\tl1 = Button(game_board, text = \"Player 1 : X\", width = 15)\n",
    "\t\n",
    "\tl1.grid(row = 1, column = 1)\n",
    "\tl2 = Button(game_board, text = \"Player 2 : O\",\n",
    "\t\t\t\twidth = 15, state = DISABLED)\n",
    "\t\n",
    "\tl2.grid(row = 2, column = 1)\n",
    "\tgameboard_pl(game_board, l1, l2)"
   ]
  },
  {
   "cell_type": "code",
   "execution_count": 6,
   "metadata": {},
   "outputs": [],
   "source": [
    "def play():\n",
    "    menu = Tk()\n",
    "    menu.geometry(\"478x478\")\n",
    "    menu.title(\"Tic Tac Toe\")\n",
    "    wpl = partial(withplayer, menu)\n",
    "      \n",
    "    head = Button(menu, text = \"---TIC-TAC-TOE GAME---\",\n",
    "                  activeforeground = 'black',\n",
    "                  activebackground = \"white\", bg = \"black\", \n",
    "                  fg = \"white\", width = 500, font = 'summer', bd = 5)\n",
    "                  \n",
    "      \n",
    "    B2 = Button(menu, text = \"PLAY GAME\", command = wpl, activeforeground = 'black',\n",
    "                activebackground = \"white\", bg = \"black\", fg = \"white\",\n",
    "                width = 500, font = 'summer', bd = 5)\n",
    "      \n",
    "    B3 = Button(menu, text = \"EXIT\", command = menu.quit, activeforeground = 'black',\n",
    "                activebackground = \"white\", bg = \"black\", fg = \"white\",\n",
    "                width = 500, font = 'summer', bd = 5)\n",
    "    head.pack(side = 'top')\n",
    "    B2.pack(side = 'top')\n",
    "    B3.pack(side = 'top')\n",
    "    menu.mainloop()\n",
    "  \n",
    "if __name__ == '__main__':\n",
    "    play()"
   ]
  },
  {
   "cell_type": "code",
   "execution_count": null,
   "metadata": {},
   "outputs": [],
   "source": []
  }
 ],
 "metadata": {
  "interpreter": {
   "hash": "ad75d77415e4b48034d8e80550c81c5073661de8bfd84abeb56435431a9d001a"
  },
  "kernelspec": {
   "display_name": "Python 3.10.2 64-bit (windows store)",
   "language": "python",
   "name": "python3"
  },
  "language_info": {
   "codemirror_mode": {
    "name": "ipython",
    "version": 3
   },
   "file_extension": ".py",
   "mimetype": "text/x-python",
   "name": "python",
   "nbconvert_exporter": "python",
   "pygments_lexer": "ipython3",
   "version": "3.10.2"
  },
  "orig_nbformat": 4
 },
 "nbformat": 4,
 "nbformat_minor": 2
}
