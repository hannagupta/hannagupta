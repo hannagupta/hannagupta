{
 "cells": [
  {
   "cell_type": "code",
   "execution_count": 1,
   "id": "cced307a",
   "metadata": {},
   "outputs": [],
   "source": [
    "import math\n",
    "import os\n",
    "from IPython.display import clear_output"
   ]
  },
  {
   "cell_type": "code",
   "execution_count": 2,
   "id": "0adb594f",
   "metadata": {},
   "outputs": [],
   "source": [
    "def add(x,y):\n",
    "    return x+y"
   ]
  },
  {
   "cell_type": "code",
   "execution_count": 3,
   "id": "6659554e",
   "metadata": {},
   "outputs": [],
   "source": [
    "def subtract(x,y):\n",
    "    return x-y"
   ]
  },
  {
   "cell_type": "code",
   "execution_count": 4,
   "id": "69555f4b",
   "metadata": {},
   "outputs": [],
   "source": [
    "def multiply(x,y):\n",
    "    return x*y"
   ]
  },
  {
   "cell_type": "code",
   "execution_count": 5,
   "id": "cb14444f",
   "metadata": {},
   "outputs": [],
   "source": [
    "def divide(x,y):\n",
    "    return x/y"
   ]
  },
  {
   "cell_type": "code",
   "execution_count": 6,
   "id": "2ebfb0c2",
   "metadata": {},
   "outputs": [],
   "source": [
    "def hcf(x, y):  \n",
    "    return math.gcd(x,y)"
   ]
  },
  {
   "cell_type": "code",
   "execution_count": 7,
   "id": "d78e7915",
   "metadata": {},
   "outputs": [],
   "source": [
    "def lcm(x, y):   \n",
    "    return math.lcm(x,y)"
   ]
  },
  {
   "cell_type": "code",
   "execution_count": 8,
   "id": "8f62de76",
   "metadata": {},
   "outputs": [],
   "source": [
    "def log(x,y):\n",
    "    return math.log(x,y)"
   ]
  },
  {
   "cell_type": "code",
   "execution_count": 9,
   "id": "0f1858d4",
   "metadata": {},
   "outputs": [],
   "source": [
    "# Dictionary with all options\n",
    "dict={\n",
    "    \"add\":1,\n",
    "    \"subtract\":2,\n",
    "    \"multiply\":3,\n",
    "    \"divide\":4,\n",
    "    \"hcf\":5,\n",
    "    \"lcm\":6,\n",
    "    \"log\":7,\n",
    "    \"exit\":8\n",
    "}"
   ]
  },
  {
   "cell_type": "code",
   "execution_count": 10,
   "id": "2afade13",
   "metadata": {},
   "outputs": [],
   "source": [
    "def print_opt():\n",
    "    i=1\n",
    "    for func in dict:\n",
    "        print(f\"{i}. {func}\")\n",
    "        i+=1"
   ]
  },
  {
   "cell_type": "code",
   "execution_count": 11,
   "id": "b654a1a1",
   "metadata": {},
   "outputs": [],
   "source": [
    "def calculate(x,o,y):    \n",
    "    if o==1:\n",
    "        result=add(x,y)\n",
    "    elif o==2:\n",
    "        result=subtract(x,y)\n",
    "    elif o==3:\n",
    "        result=multiply(x,y)\n",
    "    elif o==4:\n",
    "        result=divide(x,y)\n",
    "    elif o==5:\n",
    "        result=hcf(x,y)\n",
    "    elif o==6:\n",
    "        result=lcm(x,y)\n",
    "    elif o==7:\n",
    "       result=log(x,y)\n",
    "    else:\n",
    "        print(\"enter valid option...\")\n",
    "    return result\n",
    "        \n",
    "    "
   ]
  },
  {
   "cell_type": "code",
   "execution_count": null,
   "id": "246720b5",
   "metadata": {},
   "outputs": [
    {
     "name": "stdout",
     "output_type": "stream",
     "text": [
      "Calculator\n"
     ]
    }
   ],
   "source": [
    "print(\"Calculator\")\n",
    "\n",
    "x=int(input(\"Enter number: \"))\n",
    "while True:\n",
    "    print_opt()\n",
    "    o=int(input(\"Enter option (1 to 8): \"))\n",
    "    if o==8:\n",
    "        os._exit(1)\n",
    "    y=int(input(\"Enter number: \"))\n",
    "    result=calculate(x,o,y)\n",
    "    clear_output(wait=True)\n",
    "    \n",
    "    \n",
    "    print(f\"Result=  {result}\")\n",
    "    x=result"
   ]
  }
 ],
 "metadata": {
  "kernelspec": {
   "display_name": "Python 3 (ipykernel)",
   "language": "python",
   "name": "python3"
  },
  "language_info": {
   "codemirror_mode": {
    "name": "ipython",
    "version": 3
   },
   "file_extension": ".py",
   "mimetype": "text/x-python",
   "name": "python",
   "nbconvert_exporter": "python",
   "pygments_lexer": "ipython3",
   "version": "3.10.2"
  }
 },
 "nbformat": 4,
 "nbformat_minor": 5
}
